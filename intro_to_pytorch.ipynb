{
 "cells": [
  {
   "cell_type": "markdown",
   "metadata": {},
   "source": [
    "# Introduction to PyTorch\n",
    "## Tensors\n",
    "Let's get started with the basics. Tensors are similar to numpy’s ndarrays, with the addition being that Tensors can also be used on a GPU to accelerate computing."
   ]
  },
  {
   "cell_type": "code",
   "execution_count": 2,
   "metadata": {
    "collapsed": true
   },
   "outputs": [],
   "source": [
    "from __future__ import print_function\n",
    "import torch"
   ]
  },
  {
   "cell_type": "markdown",
   "metadata": {},
   "source": [
    "We'll start by randomly initializing a matrix.  "
   ]
  },
  {
   "cell_type": "code",
   "execution_count": 3,
   "metadata": {
    "collapsed": false
   },
   "outputs": [
    {
     "name": "stdout",
     "output_type": "stream",
     "text": [
      "\n",
      " 0.8504  0.9059  0.0569  0.3210  0.7888\n",
      " 0.9745  0.6749  0.4882  0.2655  0.9318\n",
      " 0.2443  0.6664  0.4422  0.1117  0.4756\n",
      "[torch.FloatTensor of size 3x5]\n",
      "\n"
     ]
    }
   ],
   "source": [
    "x = torch.rand(3,5)\n",
    "print(x)"
   ]
  },
  {
   "cell_type": "markdown",
   "metadata": {},
   "source": [
    "We can get the size of tensors by calling `torch.size`."
   ]
  },
  {
   "cell_type": "code",
   "execution_count": 10,
   "metadata": {
    "collapsed": false
   },
   "outputs": [
    {
     "name": "stdout",
     "output_type": "stream",
     "text": [
      "torch.Size([3, 5])\n"
     ]
    }
   ],
   "source": [
    "print(x.size())"
   ]
  },
  {
   "cell_type": "markdown",
   "metadata": {},
   "source": [
    "We can also reshape tensors using the `.view` function. Using a `-1` in one of the dimensions indicates that that dimension's size should be infered."
   ]
  },
  {
   "cell_type": "code",
   "execution_count": 9,
   "metadata": {
    "collapsed": false
   },
   "outputs": [
    {
     "name": "stdout",
     "output_type": "stream",
     "text": [
      "\n",
      " 0.8504  0.9059  0.0569\n",
      " 0.3210  0.7888  0.9745\n",
      " 0.6749  0.4882  0.2655\n",
      " 0.9318  0.2443  0.6664\n",
      " 0.4422  0.1117  0.4756\n",
      "[torch.FloatTensor of size 5x3]\n",
      "\n"
     ]
    }
   ],
   "source": [
    "print(x.view(-1, 3))"
   ]
  },
  {
   "cell_type": "markdown",
   "metadata": {},
   "source": [
    "There are multiple different syntaxes for operations:"
   ]
  },
  {
   "cell_type": "code",
   "execution_count": 4,
   "metadata": {
    "collapsed": false
   },
   "outputs": [
    {
     "name": "stdout",
     "output_type": "stream",
     "text": [
      "Y: \n",
      " 0.5838  0.2211  0.9111  0.6426  0.8530\n",
      " 0.0087  0.7193  0.5980  0.7738  0.9423\n",
      " 0.0134  0.2410  0.5535  0.3047  0.5093\n",
      "[torch.FloatTensor of size 3x5]\n",
      "\n",
      "Result 1: \n",
      " 0.6334  0.5534  1.7858  1.6258  1.3061\n",
      " 0.8190  1.2543  0.6328  1.0239  1.8263\n",
      " 0.5013  0.8701  1.0894  0.4676  0.8408\n",
      "[torch.FloatTensor of size 3x5]\n",
      " Result 2: \n",
      " 0.6334  0.5534  1.7858  1.6258  1.3061\n",
      " 0.8190  1.2543  0.6328  1.0239  1.8263\n",
      " 0.5013  0.8701  1.0894  0.4676  0.8408\n",
      "[torch.FloatTensor of size 3x5]\n",
      " Result 3: \n",
      " 0.6334  0.5534  1.7858  1.6258  1.3061\n",
      " 0.8190  1.2543  0.6328  1.0239  1.8263\n",
      " 0.5013  0.8701  1.0894  0.4676  0.8408\n",
      "[torch.FloatTensor of size 3x5]\n",
      "\n"
     ]
    }
   ],
   "source": [
    "y = torch.rand(3, 5)\n",
    "print('Y:', y)\n",
    "\n",
    "result1 = y + x              # numpy form\n",
    "result2 = torch.add(x, y)    # torch form\n",
    "y.add_(x)                    # in-place\n",
    "print('Result 1:', result1, 'Result 2:', result2, 'Result 3:', y)"
   ]
  },
  {
   "cell_type": "markdown",
   "metadata": {},
   "source": [
    "PyTorch supports numpy-like indexing:"
   ]
  },
  {
   "cell_type": "code",
   "execution_count": 5,
   "metadata": {
    "collapsed": false
   },
   "outputs": [
    {
     "name": "stdout",
     "output_type": "stream",
     "text": [
      "\n",
      " 0.6334  0.5534\n",
      " 0.8190  1.2543\n",
      " 0.5013  0.8701\n",
      "[torch.FloatTensor of size 3x2]\n",
      "\n"
     ]
    }
   ],
   "source": [
    "print(y[:, :2])  # Retrieve only the first two columns"
   ]
  },
  {
   "cell_type": "markdown",
   "metadata": {},
   "source": [
    "## Converting Between torch Tensor and numpy Array  \n",
    "PyTorch makes it very easy to switch between torch tensors and numpy arrays:  \n",
    "Convert a torch tensor to numpy with `.numpy()`.  \n",
    "Convert a numpy array to a torch tensor with `torch.from_numpy()`."
   ]
  },
  {
   "cell_type": "code",
   "execution_count": 6,
   "metadata": {
    "collapsed": false
   },
   "outputs": [
    {
     "name": "stdout",
     "output_type": "stream",
     "text": [
      "[[ 0.04952376  0.33224967  0.87471962  0.98314464  0.45310757]\n",
      " [ 0.81023103  0.53497314  0.03485238  0.25011182  0.88396251]\n",
      " [ 0.48792541  0.62901938  0.53591692  0.16294441  0.33149886]] <type 'numpy.ndarray'>\n",
      "\n",
      " 0.0495  0.3322  0.8747  0.9831  0.4531\n",
      " 0.8102  0.5350  0.0349  0.2501  0.8840\n",
      " 0.4879  0.6290  0.5359  0.1629  0.3315\n",
      "[torch.FloatTensor of size 3x5]\n",
      " <class 'torch.FloatTensor'>\n"
     ]
    }
   ],
   "source": [
    "x = x.numpy()\n",
    "print(x, type(x))\n",
    "\n",
    "x = torch.from_numpy(x)\n",
    "print(x, type(x))"
   ]
  },
  {
   "cell_type": "markdown",
   "metadata": {},
   "source": [
    "## CUDA Tensors  \n",
    "Tensors can be moved onto the GPU using the `.cuda` function, and back on to the cpu using `.cpu`. You can also control which GPU the tensor is placed on by passing the GPU number."
   ]
  },
  {
   "cell_type": "code",
   "execution_count": 15,
   "metadata": {
    "collapsed": false
   },
   "outputs": [
    {
     "name": "stdout",
     "output_type": "stream",
     "text": [
      "<class 'torch.cuda.FloatTensor'>\n",
      "<class 'torch.FloatTensor'>\n"
     ]
    }
   ],
   "source": [
    "if torch.cuda.is_available():\n",
    "    x = x.cuda(0)  # place x on GPU0\n",
    "    print(type(x))\n",
    "    \n",
    "x = x.cpu()\n",
    "print(type(x))"
   ]
  },
  {
   "cell_type": "markdown",
   "metadata": {},
   "source": [
    "# Autograd  \n",
    "The `autograd` package provides automatic differentiation for all operations on Tensors. It is a define-by-run framework, which means that your backprop is defined by how your code is run, and that every single iteration can be different.\n",
    "\n",
    "## Variable  \n",
    "The `autograd.Variable` class is wrapped around Tensors in order to record each operation performed on it. With this information the gradients can be calculated. "
   ]
  },
  {
   "cell_type": "code",
   "execution_count": 8,
   "metadata": {
    "collapsed": false
   },
   "outputs": [
    {
     "name": "stdout",
     "output_type": "stream",
     "text": [
      "Variable containing:\n",
      " 3\n",
      "[torch.LongTensor of size 1]\n",
      "\n"
     ]
    }
   ],
   "source": [
    "import numpy as np\n",
    "import torch\n",
    "from torch.autograd import Variable\n",
    "\n",
    "x = np.array([3])                     # numpy array\n",
    "x = torch.from_numpy(x)               # torch tensor\n",
    "x = Variable(x, requires_grad=True)   # torch Variable\n",
    "print(x)"
   ]
  },
  {
   "cell_type": "markdown",
   "metadata": {},
   "source": [
    "## Gradients\n",
    "We can calculate gradients for all previous operations with the `.backward()` function. Normally we will use this on the output of our loss function to backpropogate the error through our neural network, but for now we will use it to simply calculate the derivative of the function y = x^2 at x = 3. The derivative of x^2 is 2x, so our gradient at x = 3 should be 2 * 3 = 6."
   ]
  },
  {
   "cell_type": "code",
   "execution_count": 9,
   "metadata": {
    "collapsed": false
   },
   "outputs": [
    {
     "name": "stdout",
     "output_type": "stream",
     "text": [
      "Variable containing:\n",
      " 9\n",
      "[torch.LongTensor of size 1]\n",
      "\n",
      "Variable containing:\n",
      " 6\n",
      "[torch.LongTensor of size 1]\n",
      "\n"
     ]
    }
   ],
   "source": [
    "y = x * x\n",
    "print(y)\n",
    "\n",
    "y.backward()\n",
    "print(x.grad)"
   ]
  }
 ],
 "metadata": {
  "anaconda-cloud": {},
  "kernelspec": {
   "display_name": "Python [conda env:torch]",
   "language": "python",
   "name": "conda-env-torch-py"
  },
  "language_info": {
   "codemirror_mode": {
    "name": "ipython",
    "version": 2
   },
   "file_extension": ".py",
   "mimetype": "text/x-python",
   "name": "python",
   "nbconvert_exporter": "python",
   "pygments_lexer": "ipython2",
   "version": "2.7.13"
  }
 },
 "nbformat": 4,
 "nbformat_minor": 1
}
